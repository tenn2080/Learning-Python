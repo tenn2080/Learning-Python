{
  "nbformat": 4,
  "nbformat_minor": 0,
  "metadata": {
    "colab": {
      "name": "PracticeColab-Array.ipynb",
      "provenance": [],
      "authorship_tag": "ABX9TyN4vdNEo94B/rwufjIw9TKc",
      "include_colab_link": true
    },
    "kernelspec": {
      "name": "python3",
      "display_name": "Python 3"
    },
    "language_info": {
      "name": "python"
    }
  },
  "cells": [
    {
      "cell_type": "markdown",
      "metadata": {
        "id": "view-in-github",
        "colab_type": "text"
      },
      "source": [
        "<a href=\"https://colab.research.google.com/github/tenn2080/Learning-Python/blob/master/Functions%20In%20Python/PracticeColab_Array.ipynb\" target=\"_parent\"><img src=\"https://colab.research.google.com/assets/colab-badge.svg\" alt=\"Open In Colab\"/></a>"
      ]
    },
    {
      "cell_type": "code",
      "execution_count": 1,
      "metadata": {
        "id": "n3NME0BMjJcO",
        "colab": {
          "base_uri": "https://localhost:8080/"
        },
        "outputId": "178d4ff4-0d99-42c2-d3ad-80b1463dd5f7"
      },
      "outputs": [
        {
          "output_type": "stream",
          "name": "stdout",
          "text": [
            "this is outside the function\n"
          ]
        }
      ],
      "source": [
        "# function is a collection of instructions or code\n",
        "# that is used to perform some operation\n",
        "\n",
        "# we can declare function without an argument\n",
        "\n",
        "def function1():\n",
        "  print(\"hello\")\n",
        "  print(\"hello world\")\n",
        "print(\"this is outside the function\")"
      ]
    },
    {
      "cell_type": "code",
      "source": [
        "function1()"
      ],
      "metadata": {
        "colab": {
          "base_uri": "https://localhost:8080/"
        },
        "id": "0dXRHxVxn1lx",
        "outputId": "8e7a9853-7306-49a3-a4ae-f939c0d115cc"
      },
      "execution_count": 2,
      "outputs": [
        {
          "output_type": "stream",
          "name": "stdout",
          "text": [
            "hello\n",
            "hello world\n"
          ]
        }
      ]
    },
    {
      "cell_type": "code",
      "source": [
        "# we can call a function multiple times\n",
        "\n",
        "function1()\n",
        "function1()"
      ],
      "metadata": {
        "colab": {
          "base_uri": "https://localhost:8080/"
        },
        "id": "J4dKuAXLn96I",
        "outputId": "46f14bd3-1dab-478e-d748-1c46b90e5434"
      },
      "execution_count": 3,
      "outputs": [
        {
          "output_type": "stream",
          "name": "stdout",
          "text": [
            "hello\n",
            "hello world\n",
            "hello\n",
            "hello world\n"
          ]
        }
      ]
    },
    {
      "cell_type": "code",
      "source": [
        "# function can also be a mapping, meaning\n",
        "# function can also take input or an argument and \n",
        "# map the argument to a variable or return value in the function.\n",
        "# in this example function2(), the x argument is mapping to\n",
        "# return value 2*x\n",
        "\n",
        "def function2(x):\n",
        "  return 2*x\n"
      ],
      "metadata": {
        "id": "5mKWaM-foLTX"
      },
      "execution_count": 6,
      "outputs": []
    },
    {
      "cell_type": "code",
      "source": [
        "# once function2() is evaluated, it will be assigned to variable a.\n",
        "# 3 will be passed into function2() & returns value 6\n",
        "# the output value 6 is assigned to variable a\n",
        "\n",
        "a = function2(3)\n",
        "print(a)"
      ],
      "metadata": {
        "colab": {
          "base_uri": "https://localhost:8080/"
        },
        "id": "C7ejqeMoo3-P",
        "outputId": "79be95de-7e79-4f8f-feea-3f0ba5fc6a3a"
      },
      "execution_count": 7,
      "outputs": [
        {
          "output_type": "stream",
          "name": "stdout",
          "text": [
            "6\n"
          ]
        }
      ]
    },
    {
      "cell_type": "code",
      "source": [
        "b = function2(4)\n",
        "print(b)"
      ],
      "metadata": {
        "colab": {
          "base_uri": "https://localhost:8080/"
        },
        "id": "x5Qq2izKp31v",
        "outputId": "a769a9f2-40c8-40fe-9f8b-98b4726ab3d1"
      },
      "execution_count": 9,
      "outputs": [
        {
          "output_type": "stream",
          "name": "stdout",
          "text": [
            "8\n"
          ]
        }
      ]
    },
    {
      "cell_type": "code",
      "source": [
        "# multiple arguments in a single function\n",
        "\n",
        "def function3(x,y):\n",
        "  return x + y"
      ],
      "metadata": {
        "id": "Mc0pJPqIqvdE"
      },
      "execution_count": 48,
      "outputs": []
    },
    {
      "cell_type": "code",
      "source": [
        "c = function3(2,5)\n",
        "print(c)"
      ],
      "metadata": {
        "colab": {
          "base_uri": "https://localhost:8080/"
        },
        "id": "WZazu7UHq8rb",
        "outputId": "7f588ccc-9d88-448e-a491-7815dbb31bcd"
      },
      "execution_count": 49,
      "outputs": [
        {
          "output_type": "stream",
          "name": "stdout",
          "text": [
            "7\n"
          ]
        }
      ]
    },
    {
      "cell_type": "code",
      "source": [
        "# we can declare a function with or without argument\n",
        "\n",
        "# we have stored the return value in variable d. So, \n",
        "# when variable d is declared, function4() is called which\n",
        "# prints 5 and still in this function\n",
        "\n",
        "def function4(x):\n",
        "  print(x)\n",
        "  print(\"still in this function\")\n",
        "  return 3*x\n",
        "\n",
        "d = function4(5)"
      ],
      "metadata": {
        "colab": {
          "base_uri": "https://localhost:8080/"
        },
        "id": "FoDp4nHSrVSQ",
        "outputId": "96876fd0-1a1e-4bfc-f8d2-be10ee2ee6d7"
      },
      "execution_count": 16,
      "outputs": [
        {
          "output_type": "stream",
          "name": "stdout",
          "text": [
            "5\n",
            "still in this function\n"
          ]
        }
      ]
    },
    {
      "cell_type": "code",
      "source": [
        "# However, when the variable d is called, it prints the\n",
        "# return value of the function4() which is 15.\n",
        "print(d)"
      ],
      "metadata": {
        "colab": {
          "base_uri": "https://localhost:8080/"
        },
        "id": "M3mjsLJQvVYp",
        "outputId": "a804e60b-f429-4035-b00e-5569973dc445"
      },
      "execution_count": 17,
      "outputs": [
        {
          "output_type": "stream",
          "name": "stdout",
          "text": [
            "15\n"
          ]
        }
      ]
    },
    {
      "cell_type": "code",
      "source": [
        "# a function without a return value\n",
        "\n",
        "def function5(some_argument):\n",
        "  print(some_argument)\n",
        "  print(\"weee\")"
      ],
      "metadata": {
        "id": "sogo20Wjv-xc"
      },
      "execution_count": 18,
      "outputs": []
    },
    {
      "cell_type": "code",
      "source": [
        "function5(4)"
      ],
      "metadata": {
        "colab": {
          "base_uri": "https://localhost:8080/"
        },
        "id": "se153kqiwMR4",
        "outputId": "0a471aef-9863-424b-897c-43dc243b41f3"
      },
      "execution_count": 19,
      "outputs": [
        {
          "output_type": "stream",
          "name": "stdout",
          "text": [
            "4\n",
            "weee\n"
          ]
        }
      ]
    },
    {
      "cell_type": "code",
      "source": [
        "# BMI calculator variables\n",
        "# details about individuals\n",
        "\n",
        "name1 = \"YK\"\n",
        "height_m1 = 2\n",
        "weight_kg1 = 90\n",
        "\n",
        "name2 = \"YK's sister\"\n",
        "height_m2 = 1.8\n",
        "weight_kg2 = 70\n",
        "\n",
        "name3 = \"YK's brother\"\n",
        "height_m3 = 2.5\n",
        "weight_kg3 = 160"
      ],
      "metadata": {
        "id": "KXmu0faRxA3F"
      },
      "execution_count": 20,
      "outputs": []
    },
    {
      "cell_type": "code",
      "source": [
        "# BMI calculator function\n",
        "\n",
        "def bmi_calculator(name, height_m, weight_kg):\n",
        "  bmi = weight_kg/(height_m ** 2)\n",
        "  print(\"bmi: \")\n",
        "  print(bmi)\n",
        "  if bmi < 25:\n",
        "    return name + \" is not overweight\"\n",
        "  else:\n",
        "    return name + \" is overweight\""
      ],
      "metadata": {
        "id": "6goheQrPx0sw"
      },
      "execution_count": 23,
      "outputs": []
    },
    {
      "cell_type": "code",
      "source": [
        "# passing variables into function\n",
        "# declaring the variables result1, result2, result3 which\n",
        "# just calls the bmi_calculator() function\n",
        "\n",
        "result1 = bmi_calculator(name1, height_m1, weight_kg1)\n",
        "result2 = bmi_calculator(name2, height_m2, weight_kg2)\n",
        "result3 = bmi_calculator(name3, height_m3, weight_kg3)"
      ],
      "metadata": {
        "colab": {
          "base_uri": "https://localhost:8080/"
        },
        "id": "VdkW7U47zG_c",
        "outputId": "d7ac0f25-6bc9-4871-92a1-28263958769f"
      },
      "execution_count": 25,
      "outputs": [
        {
          "output_type": "stream",
          "name": "stdout",
          "text": [
            "bmi: \n",
            "22.5\n",
            "bmi: \n",
            "21.604938271604937\n",
            "bmi: \n",
            "25.6\n"
          ]
        }
      ]
    },
    {
      "cell_type": "code",
      "source": [
        "# bmi_calculator() return value is stored in the variables\n",
        "# result1, result2, result3\n",
        "\n",
        "print(result1)\n",
        "print(result2)\n",
        "print(result3)"
      ],
      "metadata": {
        "colab": {
          "base_uri": "https://localhost:8080/"
        },
        "id": "el_aDoVZzTGI",
        "outputId": "ff975337-9e4d-4cc8-d652-6bf0251e1101"
      },
      "execution_count": 26,
      "outputs": [
        {
          "output_type": "stream",
          "name": "stdout",
          "text": [
            "YK is not overweight\n",
            "YK's sister is not overweight\n",
            "YK's brother is overweight\n"
          ]
        }
      ]
    },
    {
      "cell_type": "code",
      "source": [
        "# converts miles to kilometer function\n",
        "\n",
        "# variables\n",
        "miles1 = 200\n",
        "miles2 = 300\n",
        "miles3 = -100"
      ],
      "metadata": {
        "id": "4G6Oomzj2zJb"
      },
      "execution_count": 43,
      "outputs": []
    },
    {
      "cell_type": "code",
      "source": [
        "# convert miles to kilometer function\n",
        "\n",
        "def miles_to_km(miles):\n",
        "  print(\"miles: \")\n",
        "  print(miles)\n",
        "  km = 1.6 * miles\n",
        "  if km > 0:\n",
        "    result = \"the kilometer is: \"\n",
        "    return km\n",
        "  else:\n",
        "    return \"invalid\""
      ],
      "metadata": {
        "id": "yL9BgCaB3BWo"
      },
      "execution_count": 44,
      "outputs": []
    },
    {
      "cell_type": "code",
      "source": [
        "result1 = miles_to_km(miles1)\n",
        "result2 = miles_to_km(miles2)\n",
        "result3 = miles_to_km(miles3)"
      ],
      "metadata": {
        "colab": {
          "base_uri": "https://localhost:8080/"
        },
        "id": "-j3ufAp64GC-",
        "outputId": "19a395f0-f256-45ef-e569-d82ca5ff491b"
      },
      "execution_count": 45,
      "outputs": [
        {
          "output_type": "stream",
          "name": "stdout",
          "text": [
            "miles: \n",
            "200\n",
            "miles: \n",
            "300\n",
            "miles: \n",
            "-100\n"
          ]
        }
      ]
    },
    {
      "cell_type": "code",
      "source": [
        "print(result1)\n",
        "print(result2)\n",
        "print(result3)"
      ],
      "metadata": {
        "colab": {
          "base_uri": "https://localhost:8080/"
        },
        "id": "-fWc5hiF4ell",
        "outputId": "fbb7fb81-eb3a-4caa-88ec-fe05b1377b91"
      },
      "execution_count": 47,
      "outputs": [
        {
          "output_type": "stream",
          "name": "stdout",
          "text": [
            "320.0\n",
            "480.0\n",
            "invalid\n"
          ]
        }
      ]
    }
  ]
}